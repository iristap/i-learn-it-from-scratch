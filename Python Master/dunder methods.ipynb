{
 "cells": [
  {
   "cell_type": "markdown",
   "id": "ca65f403",
   "metadata": {},
   "source": [
    "**Dunder methods**"
   ]
  },
  {
   "cell_type": "markdown",
   "id": "5d414b9f",
   "metadata": {},
   "source": [
    "### 1. `__init__`"
   ]
  },
  {
   "cell_type": "code",
   "execution_count": 2,
   "id": "456f7e4b",
   "metadata": {},
   "outputs": [
    {
     "name": "stdout",
     "output_type": "stream",
     "text": [
      "coordinate1.x: 10\n",
      "coordinate1.y: 20\n"
     ]
    }
   ],
   "source": [
    "class coordinate:\n",
    "    def __init__(self, x, y):\n",
    "        self.x = x\n",
    "        self.y = y\n",
    "\n",
    "\n",
    "coordinate1 = coordinate(10, 20)\n",
    "print(f\"coordinate1.x: {coordinate1.x}\")\n",
    "print(f\"coordinate1.y: {coordinate1.y}\")"
   ]
  },
  {
   "cell_type": "code",
   "execution_count": null,
   "id": "43d84990",
   "metadata": {},
   "outputs": [],
   "source": []
  }
 ],
 "metadata": {
  "kernelspec": {
   "display_name": "i-do-it-from-scratch",
   "language": "python",
   "name": "python3"
  },
  "language_info": {
   "codemirror_mode": {
    "name": "ipython",
    "version": 3
   },
   "file_extension": ".py",
   "mimetype": "text/x-python",
   "name": "python",
   "nbconvert_exporter": "python",
   "pygments_lexer": "ipython3",
   "version": "3.12.2"
  }
 },
 "nbformat": 4,
 "nbformat_minor": 5
}
